{
 "cells": [
  {
   "cell_type": "markdown",
   "metadata": {},
   "source": [
    "# K-Nearest Neighbors (KNN) Classifier \n",
    "\n",
    "This notebook implements the K-Nearest Neighbors (KNN) algorithm. It supports three distance metrics:\n",
    "\n",
    "* Euclidean Distance\n",
    "* Manhattan Distance\n",
    "* Cosine Similarity"
   ]
  },
  {
   "cell_type": "code",
   "execution_count": 1,
   "metadata": {
    "_cell_guid": "b1076dfc-b9ad-4769-8c92-a6c4dae69d19",
    "_uuid": "8f2839f25d086af736a60e9eeb907d3b93b6e0e5",
    "execution": {
     "iopub.execute_input": "2025-04-23T13:20:43.304164Z",
     "iopub.status.busy": "2025-04-23T13:20:43.300653Z",
     "iopub.status.idle": "2025-04-23T13:20:47.156662Z",
     "shell.execute_reply": "2025-04-23T13:20:47.149581Z",
     "shell.execute_reply.started": "2025-04-23T13:20:43.304060Z"
    },
    "trusted": true
   },
   "outputs": [
    {
     "name": "stdout",
     "output_type": "stream",
     "text": [
      "/kaggle/input/iris-flower-dataset/IRIS.csv\n"
     ]
    }
   ],
   "source": [
    "import numpy as np\n",
    "import pandas as pd\n",
    "\n",
    "import os\n",
    "for dirname, _, filenames in os.walk('/kaggle/input'):\n",
    "    for filename in filenames:\n",
    "        print(os.path.join(dirname, filename))"
   ]
  },
  {
   "cell_type": "markdown",
   "metadata": {},
   "source": [
    "# Importing Libraries"
   ]
  },
  {
   "cell_type": "code",
   "execution_count": 2,
   "metadata": {
    "execution": {
     "iopub.execute_input": "2025-04-23T13:22:12.981280Z",
     "iopub.status.busy": "2025-04-23T13:22:12.980570Z",
     "iopub.status.idle": "2025-04-23T13:22:15.720682Z",
     "shell.execute_reply": "2025-04-23T13:22:15.719625Z",
     "shell.execute_reply.started": "2025-04-23T13:22:12.981217Z"
    },
    "trusted": true
   },
   "outputs": [],
   "source": [
    "import numpy as np\n",
    "from collections import Counter\n",
    "import pandas as pd\n",
    "from sklearn.model_selection import train_test_split\n",
    "from sklearn.preprocessing import LabelEncoder\n",
    "from sklearn.neighbors import KNeighborsClassifier\n",
    "from sklearn.metrics import accuracy_score, confusion_matrix, classification_report, precision_score, recall_score, f1_score\n",
    "from sklearn.model_selection import KFold, cross_val_score\n",
    "import seaborn as sns\n",
    "import matplotlib.pyplot as plt"
   ]
  },
  {
   "cell_type": "markdown",
   "metadata": {},
   "source": [
    "We use:\n",
    "\n",
    "* numpy for mathematical computations.\n",
    "* Counter from collections to determine the most frequent class."
   ]
  },
  {
   "cell_type": "markdown",
   "metadata": {},
   "source": [
    "# Reading Data"
   ]
  },
  {
   "cell_type": "code",
   "execution_count": 3,
   "metadata": {
    "execution": {
     "iopub.execute_input": "2025-04-23T13:22:18.597428Z",
     "iopub.status.busy": "2025-04-23T13:22:18.596103Z",
     "iopub.status.idle": "2025-04-23T13:22:18.646030Z",
     "shell.execute_reply": "2025-04-23T13:22:18.643094Z",
     "shell.execute_reply.started": "2025-04-23T13:22:18.597329Z"
    },
    "trusted": true
   },
   "outputs": [],
   "source": [
    "data = pd.read_csv('/kaggle/input/iris-flower-dataset/IRIS.csv')"
   ]
  },
  {
   "cell_type": "markdown",
   "metadata": {},
   "source": [
    "# Exploratory Data Analysis"
   ]
  },
  {
   "cell_type": "code",
   "execution_count": 4,
   "metadata": {
    "execution": {
     "iopub.execute_input": "2025-04-23T13:22:18.936173Z",
     "iopub.status.busy": "2025-04-23T13:22:18.935242Z",
     "iopub.status.idle": "2025-04-23T13:22:18.991772Z",
     "shell.execute_reply": "2025-04-23T13:22:18.984369Z",
     "shell.execute_reply.started": "2025-04-23T13:22:18.936096Z"
    },
    "trusted": true
   },
   "outputs": [
    {
     "data": {
      "text/html": [
       "<div>\n",
       "<style scoped>\n",
       "    .dataframe tbody tr th:only-of-type {\n",
       "        vertical-align: middle;\n",
       "    }\n",
       "\n",
       "    .dataframe tbody tr th {\n",
       "        vertical-align: top;\n",
       "    }\n",
       "\n",
       "    .dataframe thead th {\n",
       "        text-align: right;\n",
       "    }\n",
       "</style>\n",
       "<table border=\"1\" class=\"dataframe\">\n",
       "  <thead>\n",
       "    <tr style=\"text-align: right;\">\n",
       "      <th></th>\n",
       "      <th>sepal_length</th>\n",
       "      <th>sepal_width</th>\n",
       "      <th>petal_length</th>\n",
       "      <th>petal_width</th>\n",
       "      <th>species</th>\n",
       "    </tr>\n",
       "  </thead>\n",
       "  <tbody>\n",
       "    <tr>\n",
       "      <th>0</th>\n",
       "      <td>5.1</td>\n",
       "      <td>3.5</td>\n",
       "      <td>1.4</td>\n",
       "      <td>0.2</td>\n",
       "      <td>Iris-setosa</td>\n",
       "    </tr>\n",
       "    <tr>\n",
       "      <th>1</th>\n",
       "      <td>4.9</td>\n",
       "      <td>3.0</td>\n",
       "      <td>1.4</td>\n",
       "      <td>0.2</td>\n",
       "      <td>Iris-setosa</td>\n",
       "    </tr>\n",
       "    <tr>\n",
       "      <th>2</th>\n",
       "      <td>4.7</td>\n",
       "      <td>3.2</td>\n",
       "      <td>1.3</td>\n",
       "      <td>0.2</td>\n",
       "      <td>Iris-setosa</td>\n",
       "    </tr>\n",
       "    <tr>\n",
       "      <th>3</th>\n",
       "      <td>4.6</td>\n",
       "      <td>3.1</td>\n",
       "      <td>1.5</td>\n",
       "      <td>0.2</td>\n",
       "      <td>Iris-setosa</td>\n",
       "    </tr>\n",
       "    <tr>\n",
       "      <th>4</th>\n",
       "      <td>5.0</td>\n",
       "      <td>3.6</td>\n",
       "      <td>1.4</td>\n",
       "      <td>0.2</td>\n",
       "      <td>Iris-setosa</td>\n",
       "    </tr>\n",
       "  </tbody>\n",
       "</table>\n",
       "</div>"
      ],
      "text/plain": [
       "   sepal_length  sepal_width  petal_length  petal_width      species\n",
       "0           5.1          3.5           1.4          0.2  Iris-setosa\n",
       "1           4.9          3.0           1.4          0.2  Iris-setosa\n",
       "2           4.7          3.2           1.3          0.2  Iris-setosa\n",
       "3           4.6          3.1           1.5          0.2  Iris-setosa\n",
       "4           5.0          3.6           1.4          0.2  Iris-setosa"
      ]
     },
     "execution_count": 4,
     "metadata": {},
     "output_type": "execute_result"
    }
   ],
   "source": [
    "data.head()"
   ]
  },
  {
   "cell_type": "code",
   "execution_count": 5,
   "metadata": {
    "execution": {
     "iopub.execute_input": "2025-04-23T13:22:19.086049Z",
     "iopub.status.busy": "2025-04-23T13:22:19.085249Z",
     "iopub.status.idle": "2025-04-23T13:22:19.144093Z",
     "shell.execute_reply": "2025-04-23T13:22:19.138418Z",
     "shell.execute_reply.started": "2025-04-23T13:22:19.085964Z"
    },
    "trusted": true
   },
   "outputs": [
    {
     "name": "stdout",
     "output_type": "stream",
     "text": [
      "<class 'pandas.core.frame.DataFrame'>\n",
      "RangeIndex: 150 entries, 0 to 149\n",
      "Data columns (total 5 columns):\n",
      " #   Column        Non-Null Count  Dtype  \n",
      "---  ------        --------------  -----  \n",
      " 0   sepal_length  150 non-null    float64\n",
      " 1   sepal_width   150 non-null    float64\n",
      " 2   petal_length  150 non-null    float64\n",
      " 3   petal_width   150 non-null    float64\n",
      " 4   species       150 non-null    object \n",
      "dtypes: float64(4), object(1)\n",
      "memory usage: 6.0+ KB\n"
     ]
    }
   ],
   "source": [
    "data.info()"
   ]
  },
  {
   "cell_type": "code",
   "execution_count": 6,
   "metadata": {
    "execution": {
     "iopub.execute_input": "2025-04-23T13:22:19.152972Z",
     "iopub.status.busy": "2025-04-23T13:22:19.151056Z",
     "iopub.status.idle": "2025-04-23T13:22:19.737579Z",
     "shell.execute_reply": "2025-04-23T13:22:19.732152Z",
     "shell.execute_reply.started": "2025-04-23T13:22:19.152754Z"
    },
    "trusted": true
   },
   "outputs": [
    {
     "data": {
      "image/png": "[encoded data removed]",
      "text/plain": [
       "<Figure size 640x480 with 1 Axes>"
      ]
     },
     "metadata": {},
     "output_type": "display_data"
    }
   ],
   "source": [
    "data.plot(kind='scatter', x='petal_length', y='petal_width', s=32, alpha=.8)\n",
    "plt.title('petal_width vs petal_length')\n",
    "plt.gca().spines[['top', 'right',]].set_visible(False)"
   ]
  },
  {
   "cell_type": "code",
   "execution_count": 7,
   "metadata": {
    "execution": {
     "iopub.execute_input": "2025-04-23T13:22:20.653692Z",
     "iopub.status.busy": "2025-04-23T13:22:20.652245Z",
     "iopub.status.idle": "2025-04-23T13:22:21.039069Z",
     "shell.execute_reply": "2025-04-23T13:22:21.033108Z",
     "shell.execute_reply.started": "2025-04-23T13:22:20.653625Z"
    },
    "trusted": true
   },
   "outputs": [
    {
     "data": {
      "image/png": "[encoded data removed]",
      "text/plain": [
       "<Figure size 640x480 with 1 Axes>"
      ]
     },
     "metadata": {},
     "output_type": "display_data"
    }
   ],
   "source": [
    "data.plot(kind='scatter', x='sepal_width', y='petal_length', s=32, alpha=.8)\n",
    "plt.title('petal_length vs sepal_width')\n",
    "plt.gca().spines[['top', 'right',]].set_visible(False)"
   ]
  },
  {
   "cell_type": "code",
   "execution_count": 8,
   "metadata": {
    "execution": {
     "iopub.execute_input": "2025-04-23T13:22:21.047192Z",
     "iopub.status.busy": "2025-04-23T13:22:21.044818Z",
     "iopub.status.idle": "2025-04-23T13:22:21.412512Z",
     "shell.execute_reply": "2025-04-23T13:22:21.409863Z",
     "shell.execute_reply.started": "2025-04-23T13:22:21.046959Z"
    },
    "trusted": true
   },
   "outputs": [
    {
     "data": {
      "image/png": "[encoded data removed]",
      "text/plain": [
       "<Figure size 640x480 with 1 Axes>"
      ]
     },
     "metadata": {},
     "output_type": "display_data"
    }
   ],
   "source": [
    "data.plot(kind='scatter', x='sepal_length', y='sepal_width', s=32, alpha=.8)\n",
    "plt.title('sepal_width vs sepal_length')\n",
    "plt.gca().spines[['top', 'right',]].set_visible(False)"
   ]
  },
  {
   "cell_type": "markdown",
   "metadata": {},
   "source": [
    "# Data Preprocessing"
   ]
  },
  {
   "cell_type": "markdown",
   "metadata": {},
   "source": [
    "## Encoding Categorical Data"
   ]
  },
  {
   "cell_type": "code",
   "execution_count": 9,
   "metadata": {
    "execution": {
     "iopub.execute_input": "2025-04-23T13:22:22.553188Z",
     "iopub.status.busy": "2025-04-23T13:22:22.552701Z",
     "iopub.status.idle": "2025-04-23T13:22:22.566096Z",
     "shell.execute_reply": "2025-04-23T13:22:22.564482Z",
     "shell.execute_reply.started": "2025-04-23T13:22:22.553148Z"
    },
    "trusted": true
   },
   "outputs": [],
   "source": [
    "encoder = LabelEncoder()\n",
    "data['species'] = encoder.fit_transform(data['species'])"
   ]
  },
  {
   "cell_type": "code",
   "execution_count": 10,
   "metadata": {
    "execution": {
     "iopub.execute_input": "2025-04-23T13:22:22.695420Z",
     "iopub.status.busy": "2025-04-23T13:22:22.694830Z",
     "iopub.status.idle": "2025-04-23T13:22:22.726724Z",
     "shell.execute_reply": "2025-04-23T13:22:22.724977Z",
     "shell.execute_reply.started": "2025-04-23T13:22:22.695360Z"
    },
    "trusted": true
   },
   "outputs": [
    {
     "data": {
      "text/html": [
       "<div>\n",
       "<style scoped>\n",
       "    .dataframe tbody tr th:only-of-type {\n",
       "        vertical-align: middle;\n",
       "    }\n",
       "\n",
       "    .dataframe tbody tr th {\n",
       "        vertical-align: top;\n",
       "    }\n",
       "\n",
       "    .dataframe thead th {\n",
       "        text-align: right;\n",
       "    }\n",
       "</style>\n",
       "<table border=\"1\" class=\"dataframe\">\n",
       "  <thead>\n",
       "    <tr style=\"text-align: right;\">\n",
       "      <th></th>\n",
       "      <th>sepal_length</th>\n",
       "      <th>sepal_width</th>\n",
       "      <th>petal_length</th>\n",
       "      <th>petal_width</th>\n",
       "      <th>species</th>\n",
       "    </tr>\n",
       "  </thead>\n",
       "  <tbody>\n",
       "    <tr>\n",
       "      <th>65</th>\n",
       "      <td>6.7</td>\n",
       "      <td>3.1</td>\n",
       "      <td>4.4</td>\n",
       "      <td>1.4</td>\n",
       "      <td>1</td>\n",
       "    </tr>\n",
       "    <tr>\n",
       "      <th>68</th>\n",
       "      <td>6.2</td>\n",
       "      <td>2.2</td>\n",
       "      <td>4.5</td>\n",
       "      <td>1.5</td>\n",
       "      <td>1</td>\n",
       "    </tr>\n",
       "    <tr>\n",
       "      <th>45</th>\n",
       "      <td>4.8</td>\n",
       "      <td>3.0</td>\n",
       "      <td>1.4</td>\n",
       "      <td>0.3</td>\n",
       "      <td>0</td>\n",
       "    </tr>\n",
       "    <tr>\n",
       "      <th>89</th>\n",
       "      <td>5.5</td>\n",
       "      <td>2.5</td>\n",
       "      <td>4.0</td>\n",
       "      <td>1.3</td>\n",
       "      <td>1</td>\n",
       "    </tr>\n",
       "    <tr>\n",
       "      <th>101</th>\n",
       "      <td>5.8</td>\n",
       "      <td>2.7</td>\n",
       "      <td>5.1</td>\n",
       "      <td>1.9</td>\n",
       "      <td>2</td>\n",
       "    </tr>\n",
       "  </tbody>\n",
       "</table>\n",
       "</div>"
      ],
      "text/plain": [
       "     sepal_length  sepal_width  petal_length  petal_width  species\n",
       "65            6.7          3.1           4.4          1.4        1\n",
       "68            6.2          2.2           4.5          1.5        1\n",
       "45            4.8          3.0           1.4          0.3        0\n",
       "89            5.5          2.5           4.0          1.3        1\n",
       "101           5.8          2.7           5.1          1.9        2"
      ]
     },
     "execution_count": 10,
     "metadata": {},
     "output_type": "execute_result"
    }
   ],
   "source": [
    "data.sample(5)"
   ]
  },
  {
   "cell_type": "code",
   "execution_count": 11,
   "metadata": {
    "execution": {
     "iopub.execute_input": "2025-04-23T13:22:22.819170Z",
     "iopub.status.busy": "2025-04-23T13:22:22.818499Z",
     "iopub.status.idle": "2025-04-23T13:22:22.845351Z",
     "shell.execute_reply": "2025-04-23T13:22:22.839724Z",
     "shell.execute_reply.started": "2025-04-23T13:22:22.819108Z"
    },
    "trusted": true
   },
   "outputs": [
    {
     "data": {
      "text/plain": [
       "species\n",
       "0    50\n",
       "1    50\n",
       "2    50\n",
       "Name: count, dtype: int64"
      ]
     },
     "execution_count": 11,
     "metadata": {},
     "output_type": "execute_result"
    }
   ],
   "source": [
    "data['species'].value_counts()"
   ]
  },
  {
   "cell_type": "markdown",
   "metadata": {},
   "source": [
    "# Splitting Data"
   ]
  },
  {
   "cell_type": "code",
   "execution_count": 12,
   "metadata": {
    "execution": {
     "iopub.execute_input": "2025-04-23T13:22:24.436385Z",
     "iopub.status.busy": "2025-04-23T13:22:24.435758Z",
     "iopub.status.idle": "2025-04-23T13:22:24.450992Z",
     "shell.execute_reply": "2025-04-23T13:22:24.445150Z",
     "shell.execute_reply.started": "2025-04-23T13:22:24.436309Z"
    },
    "trusted": true
   },
   "outputs": [],
   "source": [
    "X = data.drop('species', axis=1)\n",
    "y = data['species']"
   ]
  },
  {
   "cell_type": "code",
   "execution_count": 13,
   "metadata": {
    "execution": {
     "iopub.execute_input": "2025-04-23T13:22:24.553053Z",
     "iopub.status.busy": "2025-04-23T13:22:24.552410Z",
     "iopub.status.idle": "2025-04-23T13:22:24.572939Z",
     "shell.execute_reply": "2025-04-23T13:22:24.570897Z",
     "shell.execute_reply.started": "2025-04-23T13:22:24.552990Z"
    },
    "trusted": true
   },
   "outputs": [],
   "source": [
    "X_train, X_test, y_train, y_test = train_test_split(X, y, test_size=0.2, random_state=42)"
   ]
  },
  {
   "cell_type": "markdown",
   "metadata": {},
   "source": [
    "# KNN from Scratch"
   ]
  },
  {
   "cell_type": "markdown",
   "metadata": {},
   "source": [
    "The main idea behind K-Nearest Neighbors algorithm is that for each data point, the algorithm looks at the nearest k points let's say 5: \n",
    "1. The algorithm calculates the distance between this data point and all other data points.\n",
    "2. The algorithm selects the nearest 5 data points (the smallest 5 distances)\n",
    "3. The algorithm then looks at the labels of these 5 points, if the model is for classification, the algorithm takes the majority class (voting), and if the model is for regression, the algorithm takes the average of these points"
   ]
  },
  {
   "cell_type": "markdown",
   "metadata": {},
   "source": [
    "There are lots of distance metrics out there, but we will focus on three:\n",
    "1. Euclidean Distance\n",
    "2. Manhattan Distance\n",
    "3. Cosine Similarity"
   ]
  },
  {
   "cell_type": "code",
   "execution_count": 14,
   "metadata": {
    "execution": {
     "iopub.execute_input": "2025-04-23T13:22:26.521217Z",
     "iopub.status.busy": "2025-04-23T13:22:26.520581Z",
     "iopub.status.idle": "2025-04-23T13:22:26.543763Z",
     "shell.execute_reply": "2025-04-23T13:22:26.539427Z",
     "shell.execute_reply.started": "2025-04-23T13:22:26.521159Z"
    },
    "trusted": true
   },
   "outputs": [],
   "source": [
    "class KNN:\n",
    "  def __init__(self, k, metric='euclidean'):\n",
    "    self.k = k\n",
    "    self.metric = metric\n",
    "\n",
    "  def fit(self, X_train, y_train):\n",
    "    self.X_train = np.array(X_train)\n",
    "    self.y_train = np.array(y_train)\n",
    "\n",
    "    \n",
    "  def _euclidean_distance(self, A, B):\n",
    "    return np.sqrt(np.sum((np.array(A) - np.array(B)) ** 2))\n",
    "\n",
    "  def _manhattan_distance(self, A, B):\n",
    "    return np.abs(np.sum(np.array(A) - np.array(B)))\n",
    "\n",
    "  def _cosine_similarity(self, A, B):\n",
    "    dot_product = np.dot(A, B)\n",
    "    norm_A = np.linalg.norm(A)\n",
    "    norm_B = np.linalg.norm(B)\n",
    "    return 1 - dot_product / (norm_A * norm_B) if norm_A * norm_B != 0 else 0\n",
    "\n",
    "\n",
    "  def _predict_point(self, test_point):\n",
    "    distances = []\n",
    "    if (self.metric == \"euclidean\"):\n",
    "      distances = [(self._euclidean_distance(self.X_train[i], test_point), self.y_train[i]) for i in range(len(self.X_train))]\n",
    "        \n",
    "    elif (self.metric == \"manhattan\"):\n",
    "      distances = [(self._manhattan_distance(self.X_train[i], test_point), self.y_train[i]) for i in range(len(self.X_train))]\n",
    "        \n",
    "    elif (self.metric == \"cosine\"):\n",
    "      distances = [(self._cosine_similarity(self.X_train[i], test_point), self.y_train[i]) for i in range(len(self.X_train))]\n",
    "\n",
    "    distances.sort(key=lambda x: x[0])\n",
    "\n",
    "    k_nearest_labels = [label for _, label in distances[:self.k]]  # get labels of the nearest k points\n",
    "\n",
    "    most_common = Counter(k_nearest_labels).most_common(1)  # get the number of most common label\n",
    "\n",
    "    return most_common[0][0]\n",
    "\n",
    "\n",
    "  def predict(self, X_test):\n",
    "    X_test = np.array(X_test)\n",
    "    predictions = [self._predict_point(x) for x in X_test]\n",
    "    return predictions\n",
    "\n",
    "  def score(self, X, y):\n",
    "      y_pred = self.predict(X)\n",
    "      return np.mean(y_pred == np.array(y))  # accuracy calculation"
   ]
  },
  {
   "cell_type": "markdown",
   "metadata": {},
   "source": [
    "## 1. KNN with euclidean distance"
   ]
  },
  {
   "cell_type": "code",
   "execution_count": 15,
   "metadata": {
    "execution": {
     "iopub.execute_input": "2025-04-23T13:22:26.791797Z",
     "iopub.status.busy": "2025-04-23T13:22:26.791167Z",
     "iopub.status.idle": "2025-04-23T13:22:26.805796Z",
     "shell.execute_reply": "2025-04-23T13:22:26.800128Z",
     "shell.execute_reply.started": "2025-04-23T13:22:26.791734Z"
    },
    "trusted": true
   },
   "outputs": [],
   "source": [
    "knn_euclidean = KNN(k = 3, metric = 'euclidean')\n",
    "knn_euclidean.fit(X_train, y_train)"
   ]
  },
  {
   "cell_type": "code",
   "execution_count": 16,
   "metadata": {
    "execution": {
     "iopub.execute_input": "2025-04-23T13:22:27.998756Z",
     "iopub.status.busy": "2025-04-23T13:22:27.998127Z",
     "iopub.status.idle": "2025-04-23T13:22:28.053368Z",
     "shell.execute_reply": "2025-04-23T13:22:28.048704Z",
     "shell.execute_reply.started": "2025-04-23T13:22:27.998699Z"
    },
    "trusted": true
   },
   "outputs": [
    {
     "name": "stdout",
     "output_type": "stream",
     "text": [
      "[1, 0, 2, 1, 1, 0, 1, 2, 1, 1, 2, 0, 0, 0, 0, 1, 2, 1, 1, 2, 0, 2, 0, 2, 2, 2, 2, 2, 0, 0]\n"
     ]
    }
   ],
   "source": [
    "y_pred_euclidean = knn_euclidean.predict(X_test)\n",
    "print(y_pred_euclidean)"
   ]
  },
  {
   "cell_type": "code",
   "execution_count": 17,
   "metadata": {
    "execution": {
     "iopub.execute_input": "2025-04-23T13:22:28.216193Z",
     "iopub.status.busy": "2025-04-23T13:22:28.215629Z",
     "iopub.status.idle": "2025-04-23T13:22:28.241285Z",
     "shell.execute_reply": "2025-04-23T13:22:28.238381Z",
     "shell.execute_reply.started": "2025-04-23T13:22:28.216149Z"
    },
    "trusted": true
   },
   "outputs": [
    {
     "name": "stdout",
     "output_type": "stream",
     "text": [
      "classification report for implemented KNN (Euclidean Distance):\n",
      "\n",
      "              precision    recall  f1-score   support\n",
      "\n",
      "           0       1.00      1.00      1.00        10\n",
      "           1       1.00      1.00      1.00         9\n",
      "           2       1.00      1.00      1.00        11\n",
      "\n",
      "    accuracy                           1.00        30\n",
      "   macro avg       1.00      1.00      1.00        30\n",
      "weighted avg       1.00      1.00      1.00        30\n",
      "\n"
     ]
    }
   ],
   "source": [
    "print('classification report for implemented KNN (Euclidean Distance):\\n')\n",
    "print(classification_report(y_pred_euclidean, y_test))"
   ]
  },
  {
   "cell_type": "code",
   "execution_count": 18,
   "metadata": {
    "execution": {
     "iopub.execute_input": "2025-04-23T13:22:28.247165Z",
     "iopub.status.busy": "2025-04-23T13:22:28.246744Z",
     "iopub.status.idle": "2025-04-23T13:22:28.671835Z",
     "shell.execute_reply": "2025-04-23T13:22:28.669599Z",
     "shell.execute_reply.started": "2025-04-23T13:22:28.247124Z"
    },
    "trusted": true
   },
   "outputs": [
    {
     "data": {
      "image/png": "[encoded data removed]",
      "text/plain": [
       "<Figure size 640x480 with 2 Axes>"
      ]
     },
     "metadata": {},
     "output_type": "display_data"
    }
   ],
   "source": [
    "cm = confusion_matrix(y_test, y_pred_euclidean)\n",
    "\n",
    "sns.heatmap(cm, annot=True, cmap='Blues')\n",
    "plt.xlabel('Predicted')\n",
    "plt.ylabel('True')\n",
    "plt.title('Confusion Matrix for Implemented KNN (Euclidean Distance)')\n",
    "plt.show()"
   ]
  },
  {
   "cell_type": "markdown",
   "metadata": {},
   "source": [
    "## 2. KNN with manhattan distance"
   ]
  },
  {
   "cell_type": "code",
   "execution_count": 19,
   "metadata": {
    "execution": {
     "iopub.execute_input": "2025-04-23T13:22:30.453555Z",
     "iopub.status.busy": "2025-04-23T13:22:30.452906Z",
     "iopub.status.idle": "2025-04-23T13:22:30.471482Z",
     "shell.execute_reply": "2025-04-23T13:22:30.467938Z",
     "shell.execute_reply.started": "2025-04-23T13:22:30.453472Z"
    },
    "trusted": true
   },
   "outputs": [],
   "source": [
    "knn_manhattan = KNN(k = 3, metric='manhattan')\n",
    "knn_manhattan.fit(X_train, y_train)"
   ]
  },
  {
   "cell_type": "code",
   "execution_count": 20,
   "metadata": {
    "execution": {
     "iopub.execute_input": "2025-04-23T13:22:30.571418Z",
     "iopub.status.busy": "2025-04-23T13:22:30.570815Z",
     "iopub.status.idle": "2025-04-23T13:22:30.618242Z",
     "shell.execute_reply": "2025-04-23T13:22:30.616506Z",
     "shell.execute_reply.started": "2025-04-23T13:22:30.571361Z"
    },
    "trusted": true
   },
   "outputs": [
    {
     "name": "stdout",
     "output_type": "stream",
     "text": [
      "[1, 1, 2, 1, 2, 0, 1, 2, 1, 1, 2, 0, 0, 0, 0, 2, 2, 1, 1, 2, 0, 2, 0, 2, 2, 2, 2, 2, 0, 0]\n"
     ]
    }
   ],
   "source": [
    "y_pred_manhattan = knn_manhattan.predict(X_test)\n",
    "print(y_pred_manhattan)"
   ]
  },
  {
   "cell_type": "code",
   "execution_count": 21,
   "metadata": {
    "execution": {
     "iopub.execute_input": "2025-04-23T13:22:30.720259Z",
     "iopub.status.busy": "2025-04-23T13:22:30.719632Z",
     "iopub.status.idle": "2025-04-23T13:22:30.745378Z",
     "shell.execute_reply": "2025-04-23T13:22:30.742583Z",
     "shell.execute_reply.started": "2025-04-23T13:22:30.720204Z"
    },
    "trusted": true
   },
   "outputs": [
    {
     "name": "stdout",
     "output_type": "stream",
     "text": [
      "classification report for implemented KNN (Manhattan Distance):\n",
      "\n",
      "              precision    recall  f1-score   support\n",
      "\n",
      "           0       0.90      1.00      0.95         9\n",
      "           1       0.78      0.88      0.82         8\n",
      "           2       1.00      0.85      0.92        13\n",
      "\n",
      "    accuracy                           0.90        30\n",
      "   macro avg       0.89      0.91      0.90        30\n",
      "weighted avg       0.91      0.90      0.90        30\n",
      "\n"
     ]
    }
   ],
   "source": [
    "print('classification report for implemented KNN (Manhattan Distance):\\n')\n",
    "print(classification_report(y_pred_manhattan, y_test))"
   ]
  },
  {
   "cell_type": "code",
   "execution_count": 22,
   "metadata": {
    "execution": {
     "iopub.execute_input": "2025-04-23T13:22:30.816623Z",
     "iopub.status.busy": "2025-04-23T13:22:30.815949Z",
     "iopub.status.idle": "2025-04-23T13:22:31.143122Z",
     "shell.execute_reply": "2025-04-23T13:22:31.140209Z",
     "shell.execute_reply.started": "2025-04-23T13:22:30.816550Z"
    },
    "trusted": true
   },
   "outputs": [
    {
     "data": {
      "image/png": "[encoded data removed]",
      "text/plain": [
       "<Figure size 640x480 with 2 Axes>"
      ]
     },
     "metadata": {},
     "output_type": "display_data"
    }
   ],
   "source": [
    "cm_manhattan = confusion_matrix(y_pred_manhattan, y_test)\n",
    "sns.heatmap(cm_manhattan, annot=True, cmap='Blues')\n",
    "plt.xlabel('Predicted')\n",
    "plt.ylabel('True')\n",
    "plt.title('Confusion Matrix for Implemented KNN (Manhattan Distance)')\n",
    "plt.show()"
   ]
  },
  {
   "cell_type": "markdown",
   "metadata": {},
   "source": [
    "## 3. KNN with cosine similarity"
   ]
  },
  {
   "cell_type": "code",
   "execution_count": 23,
   "metadata": {
    "execution": {
     "iopub.execute_input": "2025-04-23T13:22:32.741583Z",
     "iopub.status.busy": "2025-04-23T13:22:32.740881Z",
     "iopub.status.idle": "2025-04-23T13:22:32.756036Z",
     "shell.execute_reply": "2025-04-23T13:22:32.750146Z",
     "shell.execute_reply.started": "2025-04-23T13:22:32.741513Z"
    },
    "trusted": true
   },
   "outputs": [],
   "source": [
    "knn_cosine = KNN(k = 3, metric='cosine')\n",
    "knn_cosine.fit(X_train, y_train)"
   ]
  },
  {
   "cell_type": "code",
   "execution_count": 24,
   "metadata": {
    "execution": {
     "iopub.execute_input": "2025-04-23T13:22:32.898415Z",
     "iopub.status.busy": "2025-04-23T13:22:32.897761Z",
     "iopub.status.idle": "2025-04-23T13:22:32.961677Z",
     "shell.execute_reply": "2025-04-23T13:22:32.959941Z",
     "shell.execute_reply.started": "2025-04-23T13:22:32.898351Z"
    },
    "trusted": true
   },
   "outputs": [
    {
     "name": "stdout",
     "output_type": "stream",
     "text": [
      "[1, 0, 2, 1, 1, 0, 1, 2, 1, 1, 2, 0, 0, 0, 0, 1, 2, 1, 1, 2, 0, 2, 0, 2, 1, 2, 2, 2, 0, 0]\n"
     ]
    }
   ],
   "source": [
    "y_pred_cosine = knn_cosine.predict(X_test)\n",
    "print(y_pred_cosine)"
   ]
  },
  {
   "cell_type": "code",
   "execution_count": 25,
   "metadata": {
    "execution": {
     "iopub.execute_input": "2025-04-23T13:22:33.035423Z",
     "iopub.status.busy": "2025-04-23T13:22:33.034788Z",
     "iopub.status.idle": "2025-04-23T13:22:33.064597Z",
     "shell.execute_reply": "2025-04-23T13:22:33.062135Z",
     "shell.execute_reply.started": "2025-04-23T13:22:33.035356Z"
    },
    "trusted": true
   },
   "outputs": [
    {
     "name": "stdout",
     "output_type": "stream",
     "text": [
      "classification report for implemented KNN (Cosine Similarity):\n",
      "\n",
      "              precision    recall  f1-score   support\n",
      "\n",
      "           0       1.00      1.00      1.00        10\n",
      "           1       1.00      0.90      0.95        10\n",
      "           2       0.91      1.00      0.95        10\n",
      "\n",
      "    accuracy                           0.97        30\n",
      "   macro avg       0.97      0.97      0.97        30\n",
      "weighted avg       0.97      0.97      0.97        30\n",
      "\n"
     ]
    }
   ],
   "source": [
    "print('classification report for implemented KNN (Cosine Similarity):\\n')\n",
    "print(classification_report(y_pred_cosine, y_test))"
   ]
  },
  {
   "cell_type": "code",
   "execution_count": 26,
   "metadata": {
    "execution": {
     "iopub.execute_input": "2025-04-23T13:22:33.173488Z",
     "iopub.status.busy": "2025-04-23T13:22:33.172846Z",
     "iopub.status.idle": "2025-04-23T13:22:33.501895Z",
     "shell.execute_reply": "2025-04-23T13:22:33.498075Z",
     "shell.execute_reply.started": "2025-04-23T13:22:33.173424Z"
    },
    "trusted": true
   },
   "outputs": [
    {
     "data": {
      "image/png": "[encoded data removed]",
      "text/plain": [
       "<Figure size 640x480 with 2 Axes>"
      ]
     },
     "metadata": {},
     "output_type": "display_data"
    }
   ],
   "source": [
    "cm_cosine = confusion_matrix(y_pred_cosine, y_test)\n",
    "\n",
    "sns.heatmap(cm_cosine, annot=True, cmap='Blues')\n",
    "plt.xlabel('Predicted')\n",
    "plt.ylabel('True')\n",
    "plt.title('Confusion Matrix for Implemented KNN (Cosine Similarity)')\n",
    "plt.show()"
   ]
  },
  {
   "cell_type": "markdown",
   "metadata": {},
   "source": [
    "## 4. Built-in KNN with default metric measure"
   ]
  },
  {
   "cell_type": "code",
   "execution_count": 27,
   "metadata": {
    "execution": {
     "iopub.execute_input": "2025-04-23T13:22:34.821004Z",
     "iopub.status.busy": "2025-04-23T13:22:34.820332Z",
     "iopub.status.idle": "2025-04-23T13:22:34.846349Z",
     "shell.execute_reply": "2025-04-23T13:22:34.839696Z",
     "shell.execute_reply.started": "2025-04-23T13:22:34.820936Z"
    },
    "trusted": true
   },
   "outputs": [],
   "source": [
    "knn_builtin = KNeighborsClassifier(n_neighbors=3)\n",
    "knn_builtin.fit(X_train, y_train)\n",
    "y_pred_builtin = knn_builtin.predict(X_test)"
   ]
  },
  {
   "cell_type": "code",
   "execution_count": 28,
   "metadata": {
    "execution": {
     "iopub.execute_input": "2025-04-23T13:22:34.898580Z",
     "iopub.status.busy": "2025-04-23T13:22:34.897967Z",
     "iopub.status.idle": "2025-04-23T13:22:34.920584Z",
     "shell.execute_reply": "2025-04-23T13:22:34.919116Z",
     "shell.execute_reply.started": "2025-04-23T13:22:34.898511Z"
    },
    "trusted": true
   },
   "outputs": [
    {
     "name": "stdout",
     "output_type": "stream",
     "text": [
      "classification report for built-in KNN:\n",
      "\n",
      "              precision    recall  f1-score   support\n",
      "\n",
      "           0       1.00      1.00      1.00        10\n",
      "           1       1.00      1.00      1.00         9\n",
      "           2       1.00      1.00      1.00        11\n",
      "\n",
      "    accuracy                           1.00        30\n",
      "   macro avg       1.00      1.00      1.00        30\n",
      "weighted avg       1.00      1.00      1.00        30\n",
      "\n"
     ]
    }
   ],
   "source": [
    "print('classification report for built-in KNN:\\n')\n",
    "print(classification_report(y_pred_builtin, y_test))"
   ]
  },
  {
   "cell_type": "code",
   "execution_count": 29,
   "metadata": {
    "execution": {
     "iopub.execute_input": "2025-04-23T13:22:35.026710Z",
     "iopub.status.busy": "2025-04-23T13:22:35.026019Z",
     "iopub.status.idle": "2025-04-23T13:22:35.406922Z",
     "shell.execute_reply": "2025-04-23T13:22:35.402555Z",
     "shell.execute_reply.started": "2025-04-23T13:22:35.026652Z"
    },
    "trusted": true
   },
   "outputs": [
    {
     "data": {
      "image/png": "[encoded data removed]",
      "text/plain": [
       "<Figure size 640x480 with 2 Axes>"
      ]
     },
     "metadata": {},
     "output_type": "display_data"
    }
   ],
   "source": [
    "cm_builtin = confusion_matrix(y_pred_builtin, y_test)\n",
    "\n",
    "sns.heatmap(cm_builtin, annot=True, cmap='Blues')\n",
    "plt.xlabel('Predicted')\n",
    "plt.ylabel('True')\n",
    "plt.title('Confusion Matrix for Built-in KNN')\n",
    "plt.show()"
   ]
  }
 ],
 "metadata": {
  "kaggle": {
   "accelerator": "none",
   "dataSources": [
    {
     "datasetId": 17860,
     "sourceId": 23404,
     "sourceType": "datasetVersion"
    }
   ],
   "dockerImageVersionId": 30918,
   "isGpuEnabled": false,
   "isInternetEnabled": false,
   "language": "python",
   "sourceType": "notebook"
  },
  "kernelspec": {
   "display_name": "Python 3",
   "language": "python",
   "name": "python3"
  },
  "language_info": {
   "codemirror_mode": {
    "name": "ipython",
    "version": 3
   },
   "file_extension": ".py",
   "mimetype": "text/x-python",
   "name": "python",
   "nbconvert_exporter": "python",
   "pygments_lexer": "ipython3",
   "version": "3.10.12"
  }
 },
 "nbformat": 4,
 "nbformat_minor": 4
}
